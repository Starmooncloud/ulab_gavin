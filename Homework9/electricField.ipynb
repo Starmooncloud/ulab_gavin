{
 "cells": [
  {
   "cell_type": "code",
   "execution_count": 16,
   "metadata": {},
   "outputs": [],
   "source": [
    "from matplotlib.lines import Line2D\n",
    "import numpy as np\n",
    "import matplotlib.pyplot as plt\n",
    "\n",
    "# Constants\n",
    "epsilon_0 = 8.854e-12  # Permittivity of free space (C^2 / N·m^2)\n",
    "q = 1e-9  # Charge (Coulombs) - 1 nanoCoulomb for visualization\n",
    "k = 1 / (4 * np.pi * epsilon_0)  # Coulomb's constant (N·m^2 / C^2)\n",
    "\n",
    "# Function to plot the electric field of a point charge\n",
    "def plot_electric_field(x_range=(-5, 5), y_range=(-5, 5), grid_size=20):\n",
    "    \"\"\"\n",
    "    Plots the electric field vectors due to a point charge located at the origin.\n",
    "    \n",
    "    Parameters:\n",
    "    - x_range: the range of values for x-axis.\n",
    "    - y_range: the range of values for y-axis.\n",
    "    - grid_size: Number of points along each axis to create the grid.\n",
    "    \"\"\"\n",
    "    \n",
    "    # Create a grid of points\n",
    "    x = np.linspace(x_range[0], x_range[1], grid_size)\n",
    "    y = np.linspace(y_range[0], y_range[1], grid_size)\n",
    "    X, Y = np.meshgrid(x, y)  # Create the 2D grid\n",
    "    \n",
    "    # Calculate the electric field components (Ex, Ey) at each point\n",
    "    # r is the distance from the origin (the point charge)\n",
    "    R = np.sqrt(X**2 + Y**2)\n",
    "    \n",
    "    # Avoid division by zero at the origin (where r = 0)\n",
    "    R[R == 0] = np.nan \n",
    "    \n",
    "    Ex = k * q * X / R**3\n",
    "    Ey = k * q * Y / R**3  \n",
    "    \n",
    "    fig, ax = plt.subplots(figsize=(8, 6))\n",
    "    \n",
    "    #Quiver is a handy way of plotting vectors\n",
    "    ax.quiver(X, Y, Ex, Ey, angles='xy', scale_units='xy', scale=1, color='blue')\n",
    "    dummy_line = Line2D([0], [0], color='blue', lw=2, label='Electric Field Vectors')\n",
    "\n",
    "    # Add the legend using the dummy line\n",
    "    plt.legend(handles=[dummy_line], loc='upper right', fontsize=12)\n",
    "    \n",
    "    ax.set_xlabel('X-axis (meters)')\n",
    "    ax.set_ylabel('Y-axis (meters)')\n",
    "    ax.set_title(\"Electric Field of a Point Charge\", fontsize=14)\n",
    "    plt.show()\n",
    "\n"
   ]
  },
  {
   "cell_type": "code",
   "execution_count": null,
   "metadata": {},
   "outputs": [],
   "source": []
  }
 ],
 "metadata": {
  "kernelspec": {
   "display_name": "Python 3",
   "language": "python",
   "name": "python3"
  },
  "language_info": {
   "codemirror_mode": {
    "name": "ipython",
    "version": 3
   },
   "file_extension": ".py",
   "mimetype": "text/x-python",
   "name": "python",
   "nbconvert_exporter": "python",
   "pygments_lexer": "ipython3",
   "version": "3.12.7"
  }
 },
 "nbformat": 4,
 "nbformat_minor": 2
}
