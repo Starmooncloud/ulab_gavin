{
 "cells": [
  {
   "cell_type": "code",
   "execution_count": null,
   "metadata": {},
   "outputs": [],
   "source": [
    "import numpy as np\n",
    "import matplotlib.pyplot as plt\n",
    "\n",
    "def plot_side_by_side():\n",
    "    # Graphs cos(x) and sin(x) side by side\n",
    "    x = np.linspace(0, 4 * np.pi, 500)\n",
    "    \n",
    "    h_x = np.cos(x)\n",
    "    k_x = np.sin(x)\n",
    "    \n",
    "    fig, axs = plt.subplots(1, 2, figsize=(12, 6))  # 1 row, 2 columns\n",
    "    \n",
    "    # h(x) = cos(x)\n",
    "    axs[0].plot(x, h_x, color='blue', label='$h(x) = cos(x)$')\n",
    "    axs[0].set_title(\"$h(x) = cos(x)$\", fontsize=14)\n",
    "    axs[0].set_xlabel(\"x\", fontsize=12)\n",
    "    axs[0].set_ylabel(\"h(x)\", fontsize=12)\n",
    "    axs[0].grid(True)\n",
    "    axs[0].legend()\n",
    "    \n",
    "    # k(x) = sin(x)\n",
    "    axs[1].plot(x, k_x, color='red', label='$k(x) = sin(x)$')\n",
    "    axs[1].set_title(\"$k(x) = sin(x)$\", fontsize=14)\n",
    "    axs[1].set_xlabel(\"x\", fontsize=12)\n",
    "    axs[1].set_ylabel(\"k(x)\", fontsize=12)\n",
    "    axs[1].grid(True)\n",
    "    axs[1].legend()\n",
    "    \n",
    "    plt.show()\n",
    "\n",
    "\n",
    "def plot_on_top_of_each_other():\n",
    "    # Graphs sin(x) and cos(x) on top of eachother\n",
    "    x = np.linspace(0, 4 * np.pi, 500)\n",
    "    \n",
    "    h_x = np.cos(x)\n",
    "    k_x = np.sin(x)\n",
    "    \n",
    "    fig, axs = plt.subplots(2, 1, figsize=(6, 12))  # 2 rows, 1 column\n",
    "    \n",
    "    # h(x) = cos(x)\n",
    "    axs[0].plot(x, h_x, color='blue', label='$h(x) = cos(x)$')\n",
    "    axs[0].set_title(\"$h(x) = cos(x)$\", fontsize=14)\n",
    "    axs[0].set_xlabel(\"x\", fontsize=12)\n",
    "    axs[0].set_ylabel(\"h(x)\", fontsize=12)\n",
    "    axs[0].grid(True)\n",
    "    axs[0].legend()\n",
    "    \n",
    "    # k(x) = sin(x)\n",
    "    axs[1].plot(x, k_x, color='red', label='$k(x) = sin(x)$')\n",
    "    axs[1].set_title(\"$k(x) = sin(x)$\", fontsize=14)\n",
    "    axs[1].set_xlabel(\"x\", fontsize=12)\n",
    "    axs[1].set_ylabel(\"k(x)\", fontsize=12)\n",
    "    axs[1].grid(True)\n",
    "    axs[1].legend()\n",
    "    \n",
    "    plt.show()\n"
   ]
  },
  {
   "cell_type": "code",
   "execution_count": null,
   "metadata": {},
   "outputs": [],
   "source": []
  }
 ],
 "metadata": {
  "kernelspec": {
   "display_name": "Python 3",
   "language": "python",
   "name": "python3"
  },
  "language_info": {
   "codemirror_mode": {
    "name": "ipython",
    "version": 3
   },
   "file_extension": ".py",
   "mimetype": "text/x-python",
   "name": "python",
   "nbconvert_exporter": "python",
   "pygments_lexer": "ipython3",
   "version": "3.12.7"
  }
 },
 "nbformat": 4,
 "nbformat_minor": 2
}
